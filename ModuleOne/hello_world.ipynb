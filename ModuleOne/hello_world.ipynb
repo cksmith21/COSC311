{
 "cells": [
  {
   "cell_type": "markdown",
   "metadata": {
    "collapsed": true,
    "nbpresent": {
     "id": "99986b0e-0e4f-46a9-be95-71bfdf1da1d5"
    }
   },
   "source": [
    "# Hello, world! <a id=\"hello_world\"></a>\n",
    "\n",
    "This program simply prints \"Hello, world!\" to the screen and stops.  Here's how to do this in Python."
   ]
  },
  {
   "cell_type": "code",
   "execution_count": null,
   "metadata": {
    "nbpresent": {
     "id": "44491c35-a04b-4474-b8bc-329ed2f2d981"
    },
    "scrolled": true
   },
   "outputs": [],
   "source": [
    "print('Hello, world!')"
   ]
  },
  {
   "cell_type": "markdown",
   "metadata": {
    "collapsed": true
   },
   "source": [
    "Let's add a polite response."
   ]
  },
  {
   "cell_type": "code",
   "execution_count": null,
   "metadata": {
    "scrolled": true
   },
   "outputs": [],
   "source": [
    "print('Hello, world!')\n",
    "print('Nice to meet you!') # a polite response"
   ]
  },
  {
   "cell_type": "markdown",
   "metadata": {},
   "source": [
    "**Try it yourself.**  In the following cell, write Python code to print your own personalized message to the world."
   ]
  },
  {
   "cell_type": "code",
   "execution_count": null,
   "metadata": {},
   "outputs": [],
   "source": []
  },
  {
   "cell_type": "markdown",
   "metadata": {
    "nbpresent": {
     "id": "f53972bc-b9a1-489e-8242-ca50a00e412f"
    }
   },
   "source": [
    "# Some Python syntax <a id=\"some_syntax\"></a>\n",
    "\n",
    "## Comments in Python code <a id=\"comments\"></a>\n",
    "\n",
    "In Python, anything following the character <code>#</code> to the end of the line is treated as a <b>comment</b> and ignored."
   ]
  },
  {
   "cell_type": "code",
   "execution_count": null,
   "metadata": {
    "nbpresent": {
     "id": "523722ec-eae5-4c4a-a1d6-d50847243e86"
    }
   },
   "outputs": [],
   "source": [
    "# Nothing should happen when we execute this cell."
   ]
  },
  {
   "cell_type": "markdown",
   "metadata": {},
   "source": [
    "As your programs become more complicated, or as they are handed off to others, comments become important so that your code can be understood.\n"
   ]
  },
  {
   "cell_type": "code",
   "execution_count": null,
   "metadata": {},
   "outputs": [],
   "source": []
  }
 ],
 "metadata": {
  "anaconda-cloud": {},
  "kernelspec": {
   "display_name": "Python 3",
   "language": "python",
   "name": "python3"
  },
  "language_info": {
   "codemirror_mode": {
    "name": "ipython",
    "version": 3
   },
   "file_extension": ".py",
   "mimetype": "text/x-python",
   "name": "python",
   "nbconvert_exporter": "python",
   "pygments_lexer": "ipython3",
   "version": "3.8.5"
  }
 },
 "nbformat": 4,
 "nbformat_minor": 1
}
